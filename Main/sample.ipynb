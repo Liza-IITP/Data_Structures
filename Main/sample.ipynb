{
 "cells": [
  {
   "cell_type": "code",
   "execution_count": 1,
   "metadata": {},
   "outputs": [
    {
     "name": "stdout",
     "output_type": "stream",
     "text": [
      "Current working directory is : c:\\Users\\lizak\\OneDrive\\Desktop\\DSA_Progress\\PyDSA\n",
      "Items in the current directory are : ['1.+Introduction+To+Recursion', '1.0-basic.ipynb', '1.1-Variables.ipynb', '1.2-Datatypes.ipynb', '1.3-operators.ipynb', '2.+Arrays+and+List', '2.+Binary+Search.py', '2.+Recursion+and+Arrays', '2.1-Conditionalstatements.ipynb', '2.2-Loops.ipynb', '3.+Recursion+-+Searching+and+Sorting', '3.1-Lists.ipynb', '3.1.1-ListExamples.ipynb', '3.2-Tuples.ipynb', '3.3-Sets.ipynb', '3.4-Dictionaries.ipynb', '4.+Recursion+and+String', '4.1-functions.ipynb', '4.2-examplesfunctions.ipynb', '4.3-Lambda.ipynb', '4.4-Mapsfunction.ipynb', '4.5-filterfunction.ipynb', '5.1-import.ipynb', '5.2-Standardlibrary.ipynb', '6.1-fileoperation.ipynb', '6.1-Linear_Search.py', '6.1.+Introduction+to+Arrays.py', '6.1.+Linear+Search.py', '6.2-Binary_Search.py', '6.2-filepath.ipynb', '6.3.+Bubble+Sort.py', '6.4-Insertion+Sort.py', '6.5-Selection+Sort.py', '7.1-exception.ipynb', '8.1-oops.ipynb', '8.2-inheritance.ipynb', '8.3-Polymorphism.ipynb', '8.4-Encapsulation.ipynb', '8.5-Abstraction.ipynb', '8.6-magicmethods.ipynb', '8.7-OperatorOverloading.ipynb', '8.8-customexception.ipynb', '9.1-Iterators.ipynb', '9.2-Generators.ipynb', '9.3-Decorators.ipynb', 'Custom+List+Class.py', 'Dynamic+Behaviour+of+List.py', 'Introduction+to+arrays.pdf', 'package', 'sample.ipynb', 'sample.py', 'sample.txt', 'Searching+and+Sorting-+Updated.pdf', 'settings.json', 'venv']\n"
     ]
    }
   ],
   "source": [
    "import os \n",
    "cwd = os.getcwd()\n",
    "print(f\"Current working directory is : {cwd}\")\n",
    "\n",
    "items= os.listdir('.')\n",
    "print(f\"Items in the current directory are : {items}\")\n"
   ]
  },
  {
   "cell_type": "code",
   "execution_count": 2,
   "metadata": {},
   "outputs": [
    {
     "name": "stdout",
     "output_type": "stream",
     "text": [
      "Path of directory is : c:\\Users\\lizak\\OneDrive\\Desktop\\DSA_Progress\\PyDSA\\folder\\file.txt\n"
     ]
    }
   ],
   "source": [
    "\n",
    "dir_name = \"folder\"\n",
    "file_name = \"file.txt\"\n",
    "full_path = os.path.join(os.getcwd(),dir_name,file_name)\n",
    "print(f\"Path of directory is : {full_path}\")\n"
   ]
  },
  {
   "cell_type": "code",
   "execution_count": 3,
   "metadata": {},
   "outputs": [
    {
     "name": "stdout",
     "output_type": "stream",
     "text": [
      "File example.txt does not exists\n"
     ]
    }
   ],
   "source": [
    "\n",
    "path = 'example.txt'\n",
    "if os.path.exists(path):\n",
    "    print(f\"File {path} exists\")\n",
    "else:\n",
    "    print(f\"File {path} does not exists\")\n"
   ]
  },
  {
   "cell_type": "code",
   "execution_count": 6,
   "metadata": {},
   "outputs": [
    {
     "name": "stdout",
     "output_type": "stream",
     "text": [
      "folder.txt is a directory\n",
      "Absolute path of folder.txt is : c:\\Users\\lizak\\OneDrive\\Desktop\\DSA_Progress\\PyDSA\\folder.txt\n"
     ]
    }
   ],
   "source": [
    "\n",
    "dir_name = \"folder.txt\"\n",
    "if os.path.isdir(dir_name):\n",
    "    print(f\"{dir_name} is a directory\")\n",
    "elif os.path.isfile(dir_name):\n",
    "    print(f\"{dir_name} is a file\")\n",
    "else:\n",
    "    print(f\"{dir_name} is neither a file nor a directory\")\n",
    "relative_path = \"folder.txt\" \n",
    "absolute_path = os.path.abspath(relative_path)\n",
    "print(f\"Absolute path of {relative_path} is : {absolute_path}\")"
   ]
  }
 ],
 "metadata": {
  "kernelspec": {
   "display_name": "base",
   "language": "python",
   "name": "python3"
  },
  "language_info": {
   "codemirror_mode": {
    "name": "ipython",
    "version": 3
   },
   "file_extension": ".py",
   "mimetype": "text/x-python",
   "name": "python",
   "nbconvert_exporter": "python",
   "pygments_lexer": "ipython3",
   "version": "3.12.7"
  }
 },
 "nbformat": 4,
 "nbformat_minor": 2
}
